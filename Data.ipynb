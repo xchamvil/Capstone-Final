{
 "cells": [
  {
   "cell_type": "markdown",
   "metadata": {},
   "source": [
    "# IBM Data Science Capstone"
   ]
  },
  {
   "cell_type": "markdown",
   "metadata": {},
   "source": [
    "#### *by Xavier Cham Villa*\n",
    "---"
   ]
  },
  {
   "cell_type": "markdown",
   "metadata": {},
   "source": [
    "## Data Approach\n"
   ]
  },
  {
   "cell_type": "markdown",
   "metadata": {},
   "source": [
    "In order to satisfy our clients demands our approach will be as follows. \n",
    "\n",
    "We will develop a 5 mile radius for selecting the optimal location of our clients new office. Selecting the location consists of centering around mixture restaurants, nightclubs, etc... Furthermore, we shall select an area with middle to upper middle class demographics in order to match our clients main office. Combining these elements our client should be satisfied with our approach. \n",
    "\n",
    "Firstly, we will gather data of the Phoenix Metropolitan area. Census data of the last couple of years will be a great resource to use and is readily available at census.ire.org. \n",
    "\n",
    "After gathering all our data we will select three cities that satisfy the clients prerequisites and extract other information from city specific census websites. Using a foursquare account we will zero in on our 5 mile radius of optimal locals and deliver the verdict to the client. "
   ]
  }
 ],
 "metadata": {
  "kernelspec": {
   "display_name": "Python",
   "language": "python",
   "name": "conda-env-python-py"
  },
  "language_info": {
   "codemirror_mode": {
    "name": "ipython",
    "version": 3
   },
   "file_extension": ".py",
   "mimetype": "text/x-python",
   "name": "python",
   "nbconvert_exporter": "python",
   "pygments_lexer": "ipython3",
   "version": "3.6.10"
  }
 },
 "nbformat": 4,
 "nbformat_minor": 4
}
